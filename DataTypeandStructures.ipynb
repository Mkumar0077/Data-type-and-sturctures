{
  "nbformat": 4,
  "nbformat_minor": 0,
  "metadata": {
    "colab": {
      "provenance": []
    },
    "kernelspec": {
      "name": "python3",
      "display_name": "Python 3"
    },
    "language_info": {
      "name": "python"
    }
  },
  "cells": [
    {
      "cell_type": "markdown",
      "source": [
        "# Data Type and Structures"
      ],
      "metadata": {
        "id": "SC96R7hDZBrk"
      }
    },
    {
      "cell_type": "markdown",
      "source": [
        "Q 1.** What are data structures and why are they important?**\n",
        "   - A data structure is a specialized format for organizing,storing and managing data so that it can be used efficiently.\n",
        "   They are importand because they help to manage large amounts of data,enable efficient data access, modification,helps in effectively solving complex programming problems etc.\n",
        "\n",
        "Q 2. **Explain the difference between mutable and immutable data types\n",
        "      with examples.**\n",
        "  - mutable objects can modified after they created.\n",
        "   Exp-> Lists(list),Dictionaries(dict),Sets(set)\n",
        "   \n",
        "   -On other hand immutable can't be changed.\n",
        "   Exp-> int,string,tuple.\n",
        "\n",
        "Q 3. **What are the main differences between lists and tuples in python?**\n",
        "   - differences between lists and tuples ->\n",
        "   Lists are mutable means we can change their content after created.\n",
        "   We can add,remove,or modify elements in lists.\n",
        "   Lists are defined using square brackets[ ].\n",
        "   \n",
        "   Tuples are immutable means we can't change their content after created.\n",
        "   we can't add,remove,or modify elements in tuples.\n",
        "   tuples are defined using parentheses( ).\n",
        "\n",
        "Q 4. **Describe how dictionaries store data.**\n",
        "   - Dictionaries in Python store data as ***key-value pairs***. Each key in a dictionary maps to a specific value, and keys are required to be unique and immutable (e.g., strings, numbers, tuples). Values, on the other hand, can be mutable or immutable.\n",
        "\n",
        "   Internally, Python uses a data structure called a **hash table** to store dictionaries. Here’s how it works:\n",
        "   1. When a key-value pair is added, the key is passed through a hashing algorithm to compute a *hash value*.\n",
        "   2. This hash value determines the location of the key-value pair in the memory (or \"bucket\").\n",
        "   3. When you access a value using its key, the hash value is computed again to retrieve the data efficiently.\n",
        "\n",
        "Q 5. **Why might you use a set instead of a list in Python ?**\n",
        "   - A Set in Python is a collection data type that is unordered, does not allow duplicate elements, and is optimized for membership testing (i.e., checking if an item exists in the set). Here's why you might use a set instead of a list:\n",
        "\n",
        "  1. Eliminating Duplicates:- Sets automatically remove duplicate values. If you have a list with repeated elements and need only unique items, converting it to a set is ideal.\n",
        "  2. Fast Membership Testing:- Checking if an item exists in a set is faster (average time complexity: O(1)) compared to a list (average time complexity: O(n)).\n",
        "  3. Set Operations:- Sets support mathematical operations like union, intersection, difference, and symmetric difference, which are not directly available for lists.\n",
        "\n",
        "Q 6.  **What is a string in Python, and how is it different from a list?**\n",
        "   - A string in Python is a sequence of characters enclosed in either single, double, or triple quotes. For example, 'hello', \"world\", or '''Python programming''' are all strings. Strings are used to store text data.\n",
        "\n",
        "   Differences between strings and lists:\n",
        "  1. Nature of elements:- Strings are specifically for characters, while lists can hold items of any data type (e.g., integers, floats, strings, or even other lists).\n",
        "  2. Mutability:- Strings are immutable, meaning their content cannot be changed after creation. Lists, on the other hand, are mutable and can be modified (e.g., adding, removing, or changing items).\n",
        "  3. Methods:- Strings have methods like .lower(), .upper(), and .replace(), which are specific to text manipulation. Lists have methods like .append(), .remove(), and .pop() to modify their structure.\n",
        "\n",
        "Q 7. **How do tuples ensure data integrity in Python?**\n",
        "   - Tuples in Python ensure data integrity because they are immutable. Once a tuple elements cannot be modified, added, or removed. This immutability makes them ideal for situations where data should remain constant throughout the program, reducing the risk of accidental changes. For instance, tuples are often used for storing configuration settings or fixed collections of related items.\n",
        "\n",
        "Q 8.  **What is a hash table, and how does it relate to dictionaries in Python?**\n",
        "   - A **hash table** is a data structure that stores key-value pairs. It uses a *hashing function* to compute an index into an array of buckets, or slots, where the corresponding value can be stored. Hash tables are efficient for *retrieving, inserting, and deleting* data based on keys.\n",
        "\n",
        "   In Python, *dictionaries* are implemented as hash tables. Each key in a dictionary is hashed using Python’s hashing mechanism, and the resulting hash determines where the value is stored in memory. This is why dictionaries offer *constant-time average complexity* for lookups and insertions, provided there are no hash collisions.\n",
        "\n",
        "  Features of hash tables in dictionaries:\n",
        "  - Keys must be immutable:- For example, strings, numbers, and tuples can be dictionary keys, but lists cannot.\n",
        "  - Handling collisions:- If two keys hash to the same location, Python handles this internally using techniques like chaining or open addressing.\n",
        "\n",
        "Q 9. **Can lists contain different data types in Python?**\n",
        "   - Yes, lists in Python can contain elements of different data types. This is one of the features that makes Python lists highly versatile and flexible. A single list can hold integers, strings, floats, other lists, tuples, or even objects.\n",
        "\n",
        "Q 10. **Explain why strings are immutable in Python?**\n",
        "  - Strings are *immutable* in Python, meaning they cannot be changed after they are created. This design choice is intentional and has several advantages:\n",
        "\n",
        "   1. **Memory Efficiency:-**\n",
        "   - Immutability allows Python to store strings in a shared pool (known as string interning).\n",
        "   2. **Hashing and Dictionary Keys:-**\n",
        "   - Strings can be used as keys in dictionaries because their immutability ensures they have a consistent hash value. If strings were mutable, their hash value could change, leading to unreliable behavior.\n",
        "\n",
        "   3. **Thread Safety:-**\n",
        "   - Immutable objects are inherently thread-safe because they cannot be modified. This prevents data corruption in multi-threaded programs.\n",
        "\n",
        "   4. **Simplicity and Performance:-**\n",
        "   - Immutability simplifies debugging and program design, as objects cannot be accidentally changed. It also allows certain performance optimizations at the interpreter level.\n",
        "  \n",
        "Q 11. **What advantages do dictionaries offer over lists for certain tasks?**\n",
        "   - Dictionaries provide several advantages over lists when dealing with certain tasks:\n",
        "   1. **Efficient Data Retrieval:**\n",
        "   - Dictionaries allow for *constant-time access* to elements using keys, which makes retrieval much faster than searching through a list by index or value.\n",
        "\n",
        "   2. **Key-Value Pair Structure:-**\n",
        "   - Dictionaries store data as key-value pairs, making them ideal for situations where data needs to be labeled or associated with specific identifiers.\n",
        "   3. **Flexibility with Keys and Values:-**\n",
        "   - Keys are unique, but the values can be of any data type and can even include lists or other dictionaries.\n",
        "\n",
        "   4. **Readability and Organization:-**\n",
        "   - When working with structured data, dictionaries make the code easier to read and maintain compared to lists.\n",
        "\n",
        "   5. **Avoiding Duplicates:-**\n",
        "   - A dictionary inherently avoids duplicate keys, which can be useful for maintaining data integrity.\n",
        "\n",
        "Q 12. **Describe a scenario where using a tuple would be preferable over a list?**\n",
        "  - A tuple is preferable over a list when you need to store *data that should not be changed. Since tuples are **immutable*, they ensure that the data remains consistent and cannot be accidentally modified.\n",
        "\n",
        "  ### Example Scenario:\n",
        "  Imagine we are working with geographical coordinates (latitude and longitude) for various locations. These coordinates should remain constant, so using a tuple is ideal:\n",
        "\n",
        "  python\n",
        "  coordinates = (28.6139, 77.2090)  # Latitude and Longitude of Delhi\n",
        "\n",
        "\n",
        "   Here, the coordinates are stored in a tuple to prevent accidental changes.\n",
        "\n",
        "   Additionally, tuples are useful when:\n",
        "  - Data integrity is critical, such as configuration settings.\n",
        "  - You want to use the data as keys in a dictionary, as tuples are hashable but lists are not.\n",
        "\n",
        "Q 13. **How do sets handle duplicate values in Python?**\n",
        "   - Sets in Python automatically handle duplicate values by **removing them**. When elements are added to a set, any duplicates are eliminated, leaving only unique elements. This characteristic is what makes sets ideal for situations where you need to store distinct items.\n",
        "\n",
        "Q 14. **How does the “in” keyword work differently for lists and dictionaries?**\n",
        "   - he *in keyword* is used to check if a value exists in a data structure, but its behavior differs slightly between lists and dictionaries:\n",
        "\n",
        "   1. ***For Lists:-***\n",
        "   - The 'in' keyword checks if a specific *value* is present in the list.\n",
        "   2. ***For Dictionaries:-***\n",
        "   - The 'in' keyword checks if a specific *key* exists in the dictionary (not the value).\n",
        "   ### 'In' Key Difference:\n",
        "   - In a list, 'in' searches for the element directly.\n",
        "   - In a dictionary, 'in' only checks for the keys, not the values. If you want to check for a value in a dictionary, we use the values() method.\n",
        "\n",
        "Q 15. ** Can you modify the elements of a tuple? Explain why or why not?**\n",
        "   - No, you cannot modify the elements of a tuple in Python because tuples are *immutable*. Once a tuple is created, its elements cannot be changed, added, or removed. This immutability is a key characteristic of tuples and serves several purposes:\n",
        "\n",
        "   1. ***Data Integrity:***\n",
        "   - Immutability ensures that the data in the tuple remains constant and cannot be accidentally modified.\n",
        "\n",
        "   2. ***Hashability:***\n",
        "   - Tuples can be used as keys in dictionaries because their hash value remains consistent (lists, being mutable, cannot be used as dictionary keys).\n",
        "\n",
        "   3. ***Performance:***\n",
        "   - Tuples, being immutable, are often faster than lists when accessing or iterating over their elements.\n",
        "\n",
        "\n",
        "\n",
        "  \n",
        "\n",
        "\n",
        "\n",
        "\n",
        "\n",
        "\n",
        "\n",
        "\n",
        "   \n",
        "\n",
        "\n",
        "\n"
      ],
      "metadata": {
        "id": "UrDCpkITbDV3"
      }
    },
    {
      "cell_type": "code",
      "source": [
        "#Q 16.  What is a nested dictionary, and give an example of its use case?\n",
        "#   ->A nested dictionary in Python is a dictionary that contains another dictionary as its value.\n",
        "#This structure is useful when you need to store complex, hierarchical data where each key can have multiple associated values or attributes.\n",
        "# Exp->\n",
        "# Students and their grades in different subjects:\n",
        "tudents = {\"Ajay\": {\"Math\": 90, \"Science\": 85, \"English\": 92},\n",
        "            \"Bobi\": {\"Math\": 88, \"Science\": 92, \"English\": 89},\n",
        "            \"Ravi\": {\"Math\": 92, \"Science\": 88, \"English\": 95}}\n",
        "# Accessing Ravi's Science grade\n",
        "print(students[\"Ravi\"][\"Science\"])\n",
        "\n",
        "\n"
      ],
      "metadata": {
        "colab": {
          "base_uri": "https://localhost:8080/"
        },
        "id": "0OwMu11Epqp3",
        "outputId": "2b8e35fd-9403-431e-8c95-a863caa0bba5"
      },
      "execution_count": null,
      "outputs": [
        {
          "output_type": "stream",
          "name": "stdout",
          "text": [
            "88\n"
          ]
        }
      ]
    },
    {
      "cell_type": "markdown",
      "source": [
        "Q 17. **Describe the time complexity of accessing elements in a dictionary.**\n",
        "   -The time complexity of accessing elements in a dictionary is *O(1)* on average. This is because dictionaries in Python are implemented as hash tables, which use a hashing function to compute the index of the key. Once the hash value is calculated, the corresponding value can be directly accessed without searching through the entire dictionary.\n",
        "\n",
        "   **Why is it O(1) on average?**\n",
        "   - Hash tables map keys to values using a hash function, allowing direct access.\n",
        "   - Collisions (when two keys hash to the same index) are managed using techniques like chaining, but these are rare with a good hash function.\n",
        "\n",
        "  **Worst-case scenario:-**\n",
        "   - In the rare case of multiple hash collisions, all items might need to be examined, leading to a time complexity of *O(n)* in the worst case.\n",
        "\n",
        "Q 18. **In what situations are lists preferred over dictionaries?**\n",
        "  - Lists are preferred over dictionaries in situations where:\n",
        "\n",
        "  1. **Order Matters:-**\n",
        "  - Lists maintain the order of their elements, which is important for tasks like sorting or iterating in a specific sequence.\n",
        "\n",
        "  2. **No Key-Value Pairing Needed:-**\n",
        "  - If you only need to store and access items based on their position (index) rather than a key, lists are simpler and more appropriate.\n",
        "\n",
        "  3. **Data Structure Simplicity:-**\n",
        "  - Lists are straightforward for storing and managing homogeneous or heterogeneous elements without requiring a mapping relationship.\n",
        "  4. **Memory Efficiency:-**\n",
        "  - For small collections of data or when you only need sequential storage, lists are more memory-efficient compared to dictionaries, which use hashing.\n",
        "\n",
        "  5. **Repetition is Allowed:**\n",
        "  - Lists allow duplicate values, while dictionaries require unique keys.\n",
        "\n",
        "Q 19. **Why are dictionaries considered unordered, and how does that affect data retrieval?**\n",
        "  - Dictionaries in Python are considered *unordered* because they do not maintain a consistent order for their elements until Python 3.7, where they started to preserve insertion order as an implementation detail. This means in earlier versions, the elements could appear in any order when retrieved or iterated over. However, even in Python 3.7+, dictionaries are officially considered \"insertion-ordered\" in Python 3.8 and later versions.\n",
        "\n",
        " ### How this affects data retrieval:\n",
        "  1. **Direct Access by Key:-**\n",
        "  - Regardless of order, data retrieval is efficient because dictionaries use hash tables. You always access values using their keys.\n",
        "  2. **Iteration:-**\n",
        "  - When iterating over a dictionary in versions before 3.7, the order of elements could be unpredictable.\n",
        "  - In Python 3.7+, elements maintain insertion order during iteration.\n",
        "\n",
        "Q 20. **Explain the difference between a list and a dictionary in terms of data retrieval.**\n",
        "  - *Lists* and *dictionaries* differ significantly in how they retrieve data:\n",
        "\n",
        "  1. **Lists:-**\n",
        "  - Data is retrieved using an *index* (a numeric position in the list).\n",
        "  - Indexing is sequential and starts at 0.\n",
        "  - If you don’t know the exact position of an element, you may need to search through the list, which can take time (O(n) in the worst case).\n",
        "\n",
        "  2. **Dictionaries:-**\n",
        "  - Data is retrieved using a *key* (a unique identifier for each value).\n",
        "  - Keys allow for *direct access*, which is faster (average O(1) time complexity).\n",
        "     \n",
        "\n",
        "  ### Key Differences:\n",
        "  - **Efficiency:-** Dictionaries are faster for lookups when you know the key, while lists require knowing the index or searching for a value.\n",
        "  - **Structure:-** Lists are ordered collections, while dictionaries store data as key-value pairs (insertion-ordered from Python 3.7 onwards).\n",
        "  - **Use Case:-** Use lists when the order is important, and dictionaries when you need labeled or uniquely identifiable data.\n",
        "\n",
        "\n",
        "\n"
      ],
      "metadata": {
        "id": "ItAd5UY452zl"
      }
    },
    {
      "cell_type": "markdown",
      "source": [
        "#Practical Questions\n",
        "\n"
      ],
      "metadata": {
        "id": "WwxgzQVWqeug"
      }
    },
    {
      "cell_type": "code",
      "source": [
        "#Q 1. Write a code to create a string with your name and print it.\n",
        "# ->\n",
        "Name = \"Manish Kumar\"\n",
        "print(Name)"
      ],
      "metadata": {
        "colab": {
          "base_uri": "https://localhost:8080/"
        },
        "id": "INlYi9wWqyzu",
        "outputId": "73f936e7-fbce-448d-b016-05ac970a8f89"
      },
      "execution_count": 1,
      "outputs": [
        {
          "output_type": "stream",
          "name": "stdout",
          "text": [
            "Manish Kumar\n"
          ]
        }
      ]
    },
    {
      "cell_type": "code",
      "source": [
        "#Q 2. Write a code to find the length of the string \"Hello World\".\n",
        "#->\n",
        "s = \"Hello World\"\n",
        "print(len(s))"
      ],
      "metadata": {
        "colab": {
          "base_uri": "https://localhost:8080/"
        },
        "id": "ACUNXGrQrj7A",
        "outputId": "d9e738f3-1c05-41cc-ca94-033743926eea"
      },
      "execution_count": 2,
      "outputs": [
        {
          "output_type": "stream",
          "name": "stdout",
          "text": [
            "11\n"
          ]
        }
      ]
    },
    {
      "cell_type": "code",
      "source": [
        "#Q 3. Write a code to slice the first 3 characters from the string \"Python Programming\".\n",
        "#->\n",
        "s = \"Python Programming\"\n",
        "print(s[:3])"
      ],
      "metadata": {
        "colab": {
          "base_uri": "https://localhost:8080/"
        },
        "id": "ZIyb6MYEsLw8",
        "outputId": "b4e5e155-6af0-4b98-eb7b-373bca13e9c9"
      },
      "execution_count": 3,
      "outputs": [
        {
          "output_type": "stream",
          "name": "stdout",
          "text": [
            "Pyt\n"
          ]
        }
      ]
    },
    {
      "cell_type": "code",
      "source": [
        "#Q 4. Write a code to convert the string \"hello\" to uppercase.\n",
        "#->\n",
        "s = \"Hello\"\n",
        "print(s.upper())"
      ],
      "metadata": {
        "colab": {
          "base_uri": "https://localhost:8080/"
        },
        "id": "B2pxSE86te2i",
        "outputId": "57198af9-b636-48fe-fedc-c8220978697c"
      },
      "execution_count": 4,
      "outputs": [
        {
          "output_type": "stream",
          "name": "stdout",
          "text": [
            "HELLO\n"
          ]
        }
      ]
    },
    {
      "cell_type": "code",
      "source": [
        "#Q 5. Write a code to replace the word \"apple\" with \"orange\" in the string \"I like apple\".\n",
        "#->\n",
        "s = \"I like apple\"\n",
        "print(s.replace(\"apple\",\"orange\"))"
      ],
      "metadata": {
        "colab": {
          "base_uri": "https://localhost:8080/"
        },
        "id": "22dUA87-t6Gy",
        "outputId": "52099157-e3e0-43b1-fc5d-4487e808ed5c"
      },
      "execution_count": 5,
      "outputs": [
        {
          "output_type": "stream",
          "name": "stdout",
          "text": [
            "I like orange\n"
          ]
        }
      ]
    },
    {
      "cell_type": "code",
      "source": [
        "#Q 6. Write a code to create a list with numbers 1 to 5 and print it.\n",
        "#->\n",
        "list = [1,2,3,4,5]\n",
        "print(list)"
      ],
      "metadata": {
        "colab": {
          "base_uri": "https://localhost:8080/"
        },
        "id": "i4TQ30b1u1CD",
        "outputId": "f49046c5-6723-4bb3-ef67-9f8d7eb5b14f"
      },
      "execution_count": 7,
      "outputs": [
        {
          "output_type": "stream",
          "name": "stdout",
          "text": [
            "[1, 2, 3, 4, 5]\n"
          ]
        }
      ]
    },
    {
      "cell_type": "code",
      "source": [
        "#Q 7. Write a code to append the number 10 to the list [1, 2, 3, 4].\n",
        "#->\n",
        "my_list = [1, 2, 3, 4]\n",
        "my_list.append(10)\n",
        "print(my_list)"
      ],
      "metadata": {
        "colab": {
          "base_uri": "https://localhost:8080/"
        },
        "id": "w-NMcB0zvGBt",
        "outputId": "cd49818f-5732-4497-eac3-705bd728ae90"
      },
      "execution_count": 8,
      "outputs": [
        {
          "output_type": "stream",
          "name": "stdout",
          "text": [
            "[1, 2, 3, 4, 10]\n"
          ]
        }
      ]
    },
    {
      "cell_type": "code",
      "source": [
        "#Q 8. Write a code to remove the number 3 from the list [1, 2, 3, 4, 5].\n",
        "#->\n",
        "my_list = [1, 2, 3, 4, 5]\n",
        "my_list.remove(3)\n",
        "print(my_list)"
      ],
      "metadata": {
        "colab": {
          "base_uri": "https://localhost:8080/"
        },
        "id": "xPCPgjLywPsm",
        "outputId": "404c3a0e-b0e2-40b5-9a5e-0a4dbde02242"
      },
      "execution_count": 9,
      "outputs": [
        {
          "output_type": "stream",
          "name": "stdout",
          "text": [
            "[1, 2, 4, 5]\n"
          ]
        }
      ]
    },
    {
      "cell_type": "code",
      "source": [
        "#Q 9. Write a code to access the second element in the list ['a', 'b', 'c', 'd'].\n",
        "#->\n",
        "my_list = ['a', 'b', 'c', 'd']\n",
        "my_list[1]\n"
      ],
      "metadata": {
        "colab": {
          "base_uri": "https://localhost:8080/",
          "height": 35
        },
        "id": "Um4YV5K9wcMu",
        "outputId": "21aab61c-2156-4a7d-8ffb-fe5c96b4df60"
      },
      "execution_count": 10,
      "outputs": [
        {
          "output_type": "execute_result",
          "data": {
            "text/plain": [
              "'b'"
            ],
            "application/vnd.google.colaboratory.intrinsic+json": {
              "type": "string"
            }
          },
          "metadata": {},
          "execution_count": 10
        }
      ]
    },
    {
      "cell_type": "code",
      "source": [
        "# 10. Write a code to reverse the list [10, 20, 30, 40, 50].\n",
        "#->\n",
        "my_list = [10, 20, 30, 40, 50]\n",
        "my_list.reverse()\n",
        "print(my_list)"
      ],
      "metadata": {
        "colab": {
          "base_uri": "https://localhost:8080/"
        },
        "id": "p5mz2dTVx-9J",
        "outputId": "ef89899d-04e3-4ad8-965b-cd1448af9e43"
      },
      "execution_count": 11,
      "outputs": [
        {
          "output_type": "stream",
          "name": "stdout",
          "text": [
            "[50, 40, 30, 20, 10]\n"
          ]
        }
      ]
    },
    {
      "cell_type": "code",
      "source": [
        "# 11. Write a code to create a tuple with the elements 100, 200, 300 and print it.\n",
        "#->\n",
        "tuple = (100, 200, 300)\n",
        "print(tuple)"
      ],
      "metadata": {
        "colab": {
          "base_uri": "https://localhost:8080/"
        },
        "id": "aahlFNHzyfFD",
        "outputId": "bc42c4bd-e09e-454f-846f-e544f603640d"
      },
      "execution_count": 12,
      "outputs": [
        {
          "output_type": "stream",
          "name": "stdout",
          "text": [
            "(100, 200, 300)\n"
          ]
        }
      ]
    },
    {
      "cell_type": "code",
      "source": [
        "#Q 12. Write a code to access the second-to-last element of the tuple ('red', 'green', 'blue', 'yellow').\n",
        "#->\n",
        "tuple = ('red', 'green', 'blue', 'yellow')\n",
        "print(tuple[-2])"
      ],
      "metadata": {
        "colab": {
          "base_uri": "https://localhost:8080/"
        },
        "id": "58sasK0UzNMM",
        "outputId": "83dfc03e-ccf2-4313-d97a-e5b5f8e9f11c"
      },
      "execution_count": 13,
      "outputs": [
        {
          "output_type": "stream",
          "name": "stdout",
          "text": [
            "blue\n"
          ]
        }
      ]
    },
    {
      "cell_type": "code",
      "source": [
        "#Q 13. Write a code to find the minimum number in the tuple (10, 20, 5, 15).\n",
        "#->\n",
        "tuple = (10, 20, 5, 15)\n",
        "print(min(tuple))"
      ],
      "metadata": {
        "colab": {
          "base_uri": "https://localhost:8080/"
        },
        "id": "NWiy_Fi60BUL",
        "outputId": "d5ced7d1-93e6-49c4-9f14-b2be68550c71"
      },
      "execution_count": 14,
      "outputs": [
        {
          "output_type": "stream",
          "name": "stdout",
          "text": [
            "5\n"
          ]
        }
      ]
    },
    {
      "cell_type": "code",
      "source": [
        "#Q 14. Write a code to find the index of the element \"cat\" in the tuple ('dog', 'cat', 'rabbit').\n",
        "#->\n",
        "t = ('dog', 'cat', 'rabbit')\n",
        "print(t.index(\"cat\"))"
      ],
      "metadata": {
        "colab": {
          "base_uri": "https://localhost:8080/"
        },
        "id": "cH035xKK0UdN",
        "outputId": "062448c6-7816-45d3-ea00-e5fa610aa1de"
      },
      "execution_count": 15,
      "outputs": [
        {
          "output_type": "stream",
          "name": "stdout",
          "text": [
            "1\n"
          ]
        }
      ]
    },
    {
      "cell_type": "code",
      "source": [
        "#Q 15. Write a code to create a tuple containing three different fruits and check if \"kiwi\" is in it.\n",
        "#->\n",
        "fruits = (\"apple\", \"banana\", \"orange\")\n",
        "if \"kiwi\" in fruits:\n",
        "    print(\"kiwi is in the tuple\")\n",
        "else:\n",
        "    print(\"kiwi is not in the tuple\")"
      ],
      "metadata": {
        "colab": {
          "base_uri": "https://localhost:8080/"
        },
        "id": "4JPCs9Kp0rnU",
        "outputId": "56bf388b-d340-4f20-abe3-8f8b006c546b"
      },
      "execution_count": 16,
      "outputs": [
        {
          "output_type": "stream",
          "name": "stdout",
          "text": [
            "kiwi is not in the tuple\n"
          ]
        }
      ]
    },
    {
      "cell_type": "code",
      "source": [
        "#Q 16. Write a code to create a set with the elements 'a', 'b', 'c' and print it.\n",
        "#->\n",
        "set = {'a', 'b', 'c'}\n",
        "print(set)"
      ],
      "metadata": {
        "colab": {
          "base_uri": "https://localhost:8080/"
        },
        "id": "yi4858OG1RT9",
        "outputId": "8785919e-7041-4b22-fe21-362049bc0c7c"
      },
      "execution_count": 17,
      "outputs": [
        {
          "output_type": "stream",
          "name": "stdout",
          "text": [
            "{'c', 'b', 'a'}\n"
          ]
        }
      ]
    },
    {
      "cell_type": "code",
      "source": [
        "#Q 17. Write a code to clear all elements from the set {1, 2, 3, 4, 5}.\n",
        "#->\n",
        "set = {1, 2, 3, 4, 5}\n",
        "set.clear()\n",
        "print(set)"
      ],
      "metadata": {
        "colab": {
          "base_uri": "https://localhost:8080/"
        },
        "id": "DU5y6iBI10KF",
        "outputId": "19f84dd1-588e-4401-a0a2-e904ab4dc1bd"
      },
      "execution_count": 18,
      "outputs": [
        {
          "output_type": "stream",
          "name": "stdout",
          "text": [
            "set()\n"
          ]
        }
      ]
    },
    {
      "cell_type": "code",
      "source": [
        "#Q 18. Write a code to remove the element 4 from the set {1, 2, 3, 4}.\n",
        "#->\n",
        "set = {1, 2, 3, 4}\n",
        "set.remove(4)\n",
        "print(set)"
      ],
      "metadata": {
        "colab": {
          "base_uri": "https://localhost:8080/"
        },
        "id": "qFz4aIxX2GBM",
        "outputId": "4384028a-17ea-4f27-e149-5fe1b152579b"
      },
      "execution_count": 19,
      "outputs": [
        {
          "output_type": "stream",
          "name": "stdout",
          "text": [
            "{1, 2, 3}\n"
          ]
        }
      ]
    },
    {
      "cell_type": "code",
      "source": [
        "#Q 19. Write a code to find the union of two sets {1, 2, 3} and {3, 4, 5}.\n",
        "#->\n",
        "set1 = {1, 2, 3}\n",
        "set2 = {3, 4, 5}\n",
        "print(set1.union(set2))"
      ],
      "metadata": {
        "colab": {
          "base_uri": "https://localhost:8080/"
        },
        "id": "0W8oAa-I2UGA",
        "outputId": "ecd667ad-e2e8-4473-84af-8973358dcfda"
      },
      "execution_count": 20,
      "outputs": [
        {
          "output_type": "stream",
          "name": "stdout",
          "text": [
            "{1, 2, 3, 4, 5}\n"
          ]
        }
      ]
    },
    {
      "cell_type": "code",
      "source": [
        "#Q 20. Write a code to find the intersection of two sets {1, 2, 3} and {2, 3, 4}.\n",
        "#->\n",
        "A = {1,2,3}\n",
        "B = {2,3,4}\n",
        "print(A.intersection(B))"
      ],
      "metadata": {
        "colab": {
          "base_uri": "https://localhost:8080/"
        },
        "id": "zX0LZtr42nEj",
        "outputId": "d069a724-d9e3-42e7-87c5-38a712067fe3"
      },
      "execution_count": 22,
      "outputs": [
        {
          "output_type": "stream",
          "name": "stdout",
          "text": [
            "{2, 3}\n"
          ]
        }
      ]
    },
    {
      "cell_type": "code",
      "source": [
        "#Q 21. Write a code to create a dictionary with the keys \"name\", \"age\", and \"city\", and print it.\n",
        "#->\n",
        "dict = {\"name\": \"Manisha\", \"age\": 25, \"city\": \"Delhi\"}\n",
        "print(dict)"
      ],
      "metadata": {
        "colab": {
          "base_uri": "https://localhost:8080/"
        },
        "id": "QoTDllVR3dHd",
        "outputId": "89b7b826-6cf6-41c6-a90f-3b004b772b0d"
      },
      "execution_count": 23,
      "outputs": [
        {
          "output_type": "stream",
          "name": "stdout",
          "text": [
            "{'name': 'Manisha', 'age': 25, 'city': 'Delhi'}\n"
          ]
        }
      ]
    },
    {
      "cell_type": "code",
      "source": [
        "#Q 22. Write a code to add a new key-value pair \"country\": \"USA\" to the dictionary {'name': 'John', 'age': 25}.\n",
        "#->\n",
        "dict = {'name': 'John', 'age': 25}\n",
        "dict[\"country\"] = \"USA\"\n",
        "print(dict)"
      ],
      "metadata": {
        "colab": {
          "base_uri": "https://localhost:8080/"
        },
        "id": "AHE2Zye64Bd_",
        "outputId": "961e3629-63b0-4948-943b-df5168cfdc93"
      },
      "execution_count": 24,
      "outputs": [
        {
          "output_type": "stream",
          "name": "stdout",
          "text": [
            "{'name': 'John', 'age': 25, 'country': 'USA'}\n"
          ]
        }
      ]
    },
    {
      "cell_type": "code",
      "source": [
        "#Q 23. Write a code to access the value associated with the key \"name\" in the dictionary {'name': 'Alice', 'age': 30}.\n",
        "#->\n",
        "dict = {'name': 'Alice', 'age': 30}\n",
        "print(dict[\"name\"])"
      ],
      "metadata": {
        "colab": {
          "base_uri": "https://localhost:8080/"
        },
        "id": "FdxGvSet4ZWM",
        "outputId": "ab0ca856-7f58-4a8c-806b-4755c4f34ba9"
      },
      "execution_count": 25,
      "outputs": [
        {
          "output_type": "stream",
          "name": "stdout",
          "text": [
            "Alice\n"
          ]
        }
      ]
    },
    {
      "cell_type": "code",
      "source": [
        "#Q 24. Write a code to remove the key \"age\" from the dictionary {'name': 'Bob', 'age': 22, 'city': 'New York'}.\n",
        "#->\n",
        "dict = {'name': 'Bob', 'age': 22, 'city': 'New York'}\n",
        "dict.pop(\"age\")\n",
        "print(dict)"
      ],
      "metadata": {
        "colab": {
          "base_uri": "https://localhost:8080/"
        },
        "id": "VW6LFseL4nu4",
        "outputId": "c456c2d0-aaeb-4c1d-e82c-217d9a4e5768"
      },
      "execution_count": 28,
      "outputs": [
        {
          "output_type": "stream",
          "name": "stdout",
          "text": [
            "{'name': 'Bob', 'city': 'New York'}\n"
          ]
        }
      ]
    },
    {
      "cell_type": "code",
      "source": [
        "#Q 25. Write a code to check if the key \"city\" exists in the dictionary {'name': 'Alice', 'city': 'Paris'}.\n",
        "#->\n",
        "dict = {'name': 'Alice', 'city': 'Paris'}\n",
        "if \"city\" in dict:\n",
        "    print(\"city is in the dictionary\")\n",
        "else:\n",
        "    print(\"city is not in the dictionary\")"
      ],
      "metadata": {
        "colab": {
          "base_uri": "https://localhost:8080/"
        },
        "id": "kS6YKgzL41SC",
        "outputId": "1f1071ea-af4f-47a3-92ff-23fb9276b5de"
      },
      "execution_count": 29,
      "outputs": [
        {
          "output_type": "stream",
          "name": "stdout",
          "text": [
            "city is in the dictionary\n"
          ]
        }
      ]
    },
    {
      "cell_type": "code",
      "source": [
        "#Q 26. Write a code to create a list, a tuple, and a dictionary, and print them all.\n",
        "#->\n",
        "list = [10,20,30,55]\n",
        "print(list)\n",
        "tuple = (1,2,3,4,5)\n",
        "print(tuple)\n",
        "dict = {\"name\": \"Manisha\", \"age\": 25, \"city\": \"Delhi\"}\n",
        "print(dict)\n"
      ],
      "metadata": {
        "colab": {
          "base_uri": "https://localhost:8080/"
        },
        "id": "mYw4PAHO5m1U",
        "outputId": "f02b28e5-6609-44a8-cf41-c14866d5e120"
      },
      "execution_count": 32,
      "outputs": [
        {
          "output_type": "stream",
          "name": "stdout",
          "text": [
            "[10, 20, 30, 55]\n",
            "(1, 2, 3, 4, 5)\n",
            "{'name': 'Manisha', 'age': 25, 'city': 'Delhi'}\n"
          ]
        }
      ]
    },
    {
      "cell_type": "code",
      "source": [
        "#Q 27.\n",
        "'''Write a code to create a list of 5 random numbers between 1 and 100,\n",
        "sort it in ascending order, and print the result.(replaced)'''\n",
        "#->\n",
        "num = [60,35,78,55]\n",
        "num.sort()\n",
        "print(num)\n"
      ],
      "metadata": {
        "colab": {
          "base_uri": "https://localhost:8080/"
        },
        "id": "OAlRBb4T6o8y",
        "outputId": "c54d3ba7-6afe-467a-bf12-021ed5cab5d5"
      },
      "execution_count": 34,
      "outputs": [
        {
          "output_type": "stream",
          "name": "stdout",
          "text": [
            "[35, 55, 60, 78]\n"
          ]
        }
      ]
    },
    {
      "cell_type": "code",
      "source": [
        "#Q 28.Write a code to create a list with strings and print the element at the third index.\n",
        "#->\n",
        "list = [\"apple\", \"banana\", \"orange\", \"kiwi\", \"mango\"]\n",
        "print(list[3])\n"
      ],
      "metadata": {
        "colab": {
          "base_uri": "https://localhost:8080/"
        },
        "id": "8NOaxKS69p6V",
        "outputId": "256063e0-e8c9-4b55-fe03-c97567234c28"
      },
      "execution_count": 35,
      "outputs": [
        {
          "output_type": "stream",
          "name": "stdout",
          "text": [
            "kiwi\n"
          ]
        }
      ]
    },
    {
      "cell_type": "code",
      "source": [
        "#Q 29. Write a code to combine two dictionaries into one and print the result.\n",
        "#->\n",
        "dict1 = {'a': 1, 'b': 2}\n",
        "dict2 = {'c': 3, 'd': 4}\n",
        "dict1.update(dict2)\n",
        "print(dict1)"
      ],
      "metadata": {
        "colab": {
          "base_uri": "https://localhost:8080/"
        },
        "id": "NkXgrm5e-nGC",
        "outputId": "db1806ee-d880-46af-aec9-711aec904f9e"
      },
      "execution_count": 36,
      "outputs": [
        {
          "output_type": "stream",
          "name": "stdout",
          "text": [
            "{'a': 1, 'b': 2, 'c': 3, 'd': 4}\n"
          ]
        }
      ]
    },
    {
      "cell_type": "code",
      "source": [
        "#Q 30. Write a code to convert a list of strings into a set.\n",
        "#->\n",
        "list = [\"apple\", \"banana\", \"kiwi\", \"orange\"]\n",
        "set = {x for x in list} #using set comprehension\n",
        "print(set)\n"
      ],
      "metadata": {
        "colab": {
          "base_uri": "https://localhost:8080/"
        },
        "id": "GZXl0H-E_Iuj",
        "outputId": "f597a6b3-2e96-43a7-db85-42033c613bae"
      },
      "execution_count": 53,
      "outputs": [
        {
          "output_type": "stream",
          "name": "stdout",
          "text": [
            "{'banana', 'orange', 'apple', 'kiwi'}\n"
          ]
        }
      ]
    },
    {
      "cell_type": "code",
      "source": [],
      "metadata": {
        "id": "2QwApRQuFyN9"
      },
      "execution_count": null,
      "outputs": []
    }
  ]
}